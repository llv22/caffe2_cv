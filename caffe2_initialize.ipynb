{
 "cells": [
  {
   "cell_type": "markdown",
   "metadata": {},
   "source": [
    "# Caffe2 Introduction\n",
    "\n",
    "References\n",
    "* https://caffe2.ai/docs/intro-tutorial.html"
   ]
  },
  {
   "cell_type": "code",
   "execution_count": 1,
   "metadata": {
    "scrolled": true
   },
   "outputs": [
    {
     "name": "stderr",
     "output_type": "stream",
     "text": [
      "WARNING:root:This caffe2 python run does not have GPU support. Will run in CPU only mode.\n"
     ]
    }
   ],
   "source": [
    "from caffe2.python import workspace, model_helper\n",
    "import numpy as np"
   ]
  },
  {
   "cell_type": "markdown",
   "metadata": {},
   "source": [
    "## Blobs and Workspace, Tensors"
   ]
  },
  {
   "cell_type": "code",
   "execution_count": 2,
   "metadata": {},
   "outputs": [
    {
     "name": "stdout",
     "output_type": "stream",
     "text": [
      "[[[0.20067819 0.02449249]\n",
      "  [0.99203175 0.59753587]\n",
      "  [0.64125494 0.64804213]]\n",
      "\n",
      " [[0.83286782 0.7166435 ]\n",
      "  [0.90717252 0.35607617]\n",
      "  [0.61197566 0.06457378]]\n",
      "\n",
      " [[0.18070491 0.465027  ]\n",
      "  [0.43689523 0.03734451]\n",
      "  [0.75650208 0.06555338]]\n",
      "\n",
      " [[0.19843814 0.33430901]\n",
      "  [0.41172729 0.82772944]\n",
      "  [0.98035546 0.81931098]]]\n",
      "(4, 3, 2)\n",
      "[[[0.20067819 0.02449249]\n",
      "  [0.99203175 0.59753587]\n",
      "  [0.64125494 0.64804213]]\n",
      "\n",
      " [[0.83286782 0.7166435 ]\n",
      "  [0.90717252 0.35607617]\n",
      "  [0.61197566 0.06457378]]\n",
      "\n",
      " [[0.18070491 0.465027  ]\n",
      "  [0.43689523 0.03734451]\n",
      "  [0.75650208 0.06555338]]\n",
      "\n",
      " [[0.19843814 0.33430901]\n",
      "  [0.41172729 0.82772944]\n",
      "  [0.98035546 0.81931098]]]\n"
     ]
    }
   ],
   "source": [
    "# Create random tensor of three dimensions\n",
    "x = np.random.rand(4, 3, 2)\n",
    "print(x)\n",
    "print(x.shape)\n",
    "\n",
    "workspace.FeedBlob(\"my_x\", x)\n",
    "\n",
    "x2 = workspace.FetchBlob(\"my_x\")\n",
    "print(x2)"
   ]
  },
  {
   "cell_type": "markdown",
   "metadata": {},
   "source": [
    "## Nets and Operators"
   ]
  },
  {
   "cell_type": "markdown",
   "metadata": {},
   "source": [
    "### 1. Model defintion"
   ]
  },
  {
   "cell_type": "code",
   "execution_count": 3,
   "metadata": {},
   "outputs": [
    {
     "data": {
      "text/plain": [
       "True"
      ]
     },
     "execution_count": 3,
     "metadata": {},
     "output_type": "execute_result"
    }
   ],
   "source": [
    "# Create the input data\n",
    "data = np.random.rand(16, 100).astype(np.float32)\n",
    "\n",
    "# Create labels for the data as integers [0, 9].\n",
    "label = (np.random.rand(16) * 10).astype(np.int32)\n",
    "\n",
    "workspace.FeedBlob(\"data\", data)\n",
    "workspace.FeedBlob(\"label\", label)"
   ]
  },
  {
   "cell_type": "code",
   "execution_count": 4,
   "metadata": {},
   "outputs": [],
   "source": [
    "# Create model using a model helper\n",
    "m = model_helper.ModelHelper(name=\"my first net\")"
   ]
  },
  {
   "cell_type": "code",
   "execution_count": 5,
   "metadata": {},
   "outputs": [],
   "source": [
    "weight = m.param_init_net.XavierFill([], 'fc_w', shape=[10, 100])\n",
    "bias = m.param_init_net.ConstantFill([], 'fc_b', shape=[10, ])"
   ]
  },
  {
   "cell_type": "code",
   "execution_count": 6,
   "metadata": {},
   "outputs": [
    {
     "name": "stdout",
     "output_type": "stream",
     "text": [
      "name: \"my first net\"\n",
      "op {\n",
      "  input: \"data\"\n",
      "  input: \"fc_w\"\n",
      "  input: \"fc_b\"\n",
      "  output: \"fc1\"\n",
      "  name: \"\"\n",
      "  type: \"FC\"\n",
      "}\n",
      "op {\n",
      "  input: \"fc1\"\n",
      "  output: \"pred\"\n",
      "  name: \"\"\n",
      "  type: \"Sigmoid\"\n",
      "}\n",
      "op {\n",
      "  input: \"pred\"\n",
      "  input: \"label\"\n",
      "  output: \"softmax\"\n",
      "  output: \"loss\"\n",
      "  name: \"\"\n",
      "  type: \"SoftmaxWithLoss\"\n",
      "}\n",
      "external_input: \"data\"\n",
      "external_input: \"fc_w\"\n",
      "external_input: \"fc_b\"\n",
      "external_input: \"label\"\n",
      "\n"
     ]
    }
   ],
   "source": [
    "fc_1 = m.net.FC([\"data\", \"fc_w\", \"fc_b\"], \"fc1\")\n",
    "pred = m.net.Sigmoid(fc_1, \"pred\")\n",
    "softmax, loss = m.net.SoftmaxWithLoss([pred, \"label\"], [\"softmax\", \"loss\"])\n",
    "print(m.net.Proto())"
   ]
  },
  {
   "cell_type": "markdown",
   "metadata": {},
   "source": [
    "### 2. Executing"
   ]
  },
  {
   "cell_type": "code",
   "execution_count": 7,
   "metadata": {},
   "outputs": [
    {
     "data": {
      "text/plain": [
       "True"
      ]
     },
     "execution_count": 7,
     "metadata": {},
     "output_type": "execute_result"
    }
   ],
   "source": [
    "workspace.RunNetOnce(m.param_init_net)\n",
    "workspace.CreateNet(m.net)"
   ]
  },
  {
   "cell_type": "code",
   "execution_count": 8,
   "metadata": {},
   "outputs": [],
   "source": [
    "# Run 100 x 10 iterations\n",
    "for _ in range(100):\n",
    "    data = np.random.rand(16, 100).astype(np.float32)\n",
    "    label = (np.random.rand(16) * 10).astype(np.int32)\n",
    "\n",
    "    workspace.FeedBlob(\"data\", data)\n",
    "    workspace.FeedBlob(\"label\", label)\n",
    "\n",
    "    workspace.RunNet(m.name, 10)   # run for 10 times"
   ]
  },
  {
   "cell_type": "code",
   "execution_count": 9,
   "metadata": {},
   "outputs": [
    {
     "name": "stdout",
     "output_type": "stream",
     "text": [
      "[[0.09729729 0.10235403 0.10384981 0.07824369 0.10053563 0.09581183\n",
      "  0.10055164 0.11575191 0.10560181 0.10000231]\n",
      " [0.09829728 0.09779312 0.10761204 0.09588309 0.1053839  0.10047052\n",
      "  0.09579735 0.10051629 0.08623596 0.11201049]\n",
      " [0.10254492 0.1000658  0.12236757 0.09416427 0.09513773 0.10812505\n",
      "  0.08081137 0.0962331  0.09884302 0.10170718]\n",
      " [0.09716035 0.115008   0.10897743 0.08455004 0.10010631 0.10044482\n",
      "  0.0822323  0.1231948  0.09240324 0.09592273]\n",
      " [0.09660865 0.09433345 0.10561669 0.08835956 0.10377239 0.10553793\n",
      "  0.09026746 0.11326636 0.09641717 0.10582037]\n",
      " [0.08974919 0.10719682 0.1073035  0.10885403 0.1102971  0.09536776\n",
      "  0.08648033 0.10708412 0.0910176  0.09664951]\n",
      " [0.09131484 0.09692156 0.11508288 0.08642853 0.10682766 0.10219012\n",
      "  0.09892079 0.10925152 0.09625351 0.09680849]\n",
      " [0.09953253 0.10842919 0.11357266 0.09210159 0.09289826 0.09680344\n",
      "  0.09043171 0.10663782 0.09215952 0.10743321]\n",
      " [0.08794647 0.09709716 0.10826972 0.09107433 0.11456678 0.1017866\n",
      "  0.09554264 0.1084832  0.09183703 0.10339613]\n",
      " [0.10702008 0.10408909 0.10507192 0.08193845 0.09962643 0.09915446\n",
      "  0.0902652  0.11374673 0.09121434 0.10787326]\n",
      " [0.10248801 0.10064016 0.11144486 0.08949111 0.10359269 0.09426703\n",
      "  0.0864054  0.11702065 0.09078506 0.10386496]\n",
      " [0.09644468 0.10683156 0.11323641 0.08421484 0.10364552 0.10688001\n",
      "  0.08472194 0.11419683 0.0839442  0.105884  ]\n",
      " [0.09592621 0.10244736 0.11915325 0.09204532 0.10768652 0.1023788\n",
      "  0.09592797 0.09722815 0.08654105 0.10066544]\n",
      " [0.09559695 0.10250075 0.11793879 0.08313173 0.1050705  0.10755207\n",
      "  0.09785052 0.0955929  0.08753134 0.10723442]\n",
      " [0.09697614 0.10491177 0.11867668 0.08045347 0.10749221 0.10302157\n",
      "  0.09007408 0.10948347 0.08904725 0.09986336]\n",
      " [0.08306453 0.11626919 0.09800473 0.08468077 0.1098481  0.10946167\n",
      "  0.08684586 0.11534312 0.09737661 0.09910537]]\n",
      "2.3124213\n"
     ]
    }
   ],
   "source": [
    "print(workspace.FetchBlob(\"softmax\"))\n",
    "print(workspace.FetchBlob(\"loss\"))"
   ]
  },
  {
   "cell_type": "markdown",
   "metadata": {},
   "source": [
    "### 3. Backward pass"
   ]
  },
  {
   "cell_type": "code",
   "execution_count": 10,
   "metadata": {},
   "outputs": [
    {
     "data": {
      "text/plain": [
       "True"
      ]
     },
     "execution_count": 10,
     "metadata": {},
     "output_type": "execute_result"
    }
   ],
   "source": [
    "m.AddGradientOperators([loss])\n",
    "workspace.RunNetOnce(m.param_init_net)\n",
    "workspace.CreateNet(m.net, overwrite=True)"
   ]
  },
  {
   "cell_type": "code",
   "execution_count": 11,
   "metadata": {
    "scrolled": true
   },
   "outputs": [
    {
     "name": "stdout",
     "output_type": "stream",
     "text": [
      "name: \"my first net\"\n",
      "op {\n",
      "  input: \"data\"\n",
      "  input: \"fc_w\"\n",
      "  input: \"fc_b\"\n",
      "  output: \"fc1\"\n",
      "  name: \"\"\n",
      "  type: \"FC\"\n",
      "}\n",
      "op {\n",
      "  input: \"fc1\"\n",
      "  output: \"pred\"\n",
      "  name: \"\"\n",
      "  type: \"Sigmoid\"\n",
      "}\n",
      "op {\n",
      "  input: \"pred\"\n",
      "  input: \"label\"\n",
      "  output: \"softmax\"\n",
      "  output: \"loss\"\n",
      "  name: \"\"\n",
      "  type: \"SoftmaxWithLoss\"\n",
      "}\n",
      "op {\n",
      "  input: \"loss\"\n",
      "  output: \"loss_autogen_grad\"\n",
      "  name: \"\"\n",
      "  type: \"ConstantFill\"\n",
      "  arg {\n",
      "    name: \"value\"\n",
      "    f: 1.0\n",
      "  }\n",
      "}\n",
      "op {\n",
      "  input: \"pred\"\n",
      "  input: \"label\"\n",
      "  input: \"softmax\"\n",
      "  input: \"loss_autogen_grad\"\n",
      "  output: \"pred_grad\"\n",
      "  name: \"\"\n",
      "  type: \"SoftmaxWithLossGradient\"\n",
      "  is_gradient_op: true\n",
      "}\n",
      "op {\n",
      "  input: \"pred\"\n",
      "  input: \"pred_grad\"\n",
      "  output: \"fc1_grad\"\n",
      "  name: \"\"\n",
      "  type: \"SigmoidGradient\"\n",
      "  is_gradient_op: true\n",
      "}\n",
      "op {\n",
      "  input: \"data\"\n",
      "  input: \"fc_w\"\n",
      "  input: \"fc1_grad\"\n",
      "  output: \"fc_w_grad\"\n",
      "  output: \"fc_b_grad\"\n",
      "  output: \"data_grad\"\n",
      "  name: \"\"\n",
      "  type: \"FCGradient\"\n",
      "  is_gradient_op: true\n",
      "}\n",
      "external_input: \"data\"\n",
      "external_input: \"fc_w\"\n",
      "external_input: \"fc_b\"\n",
      "external_input: \"label\"\n",
      "\n"
     ]
    }
   ],
   "source": [
    "print(m.net.Proto())"
   ]
  },
  {
   "cell_type": "code",
   "execution_count": 12,
   "metadata": {},
   "outputs": [],
   "source": [
    "# Run 100 x 10 iterations\n",
    "for _ in range(100):\n",
    "    data = np.random.rand(16, 100).astype(np.float32)\n",
    "    label = (np.random.rand(16) * 10).astype(np.int32)\n",
    "\n",
    "    workspace.FeedBlob(\"data\", data)\n",
    "    workspace.FeedBlob(\"label\", label)\n",
    "\n",
    "    workspace.RunNet(m.name, 10)   # run for 10 times"
   ]
  },
  {
   "cell_type": "code",
   "execution_count": 13,
   "metadata": {},
   "outputs": [
    {
     "name": "stdout",
     "output_type": "stream",
     "text": [
      "[[0.10741661 0.09018537 0.11096521 0.08871864 0.10243134 0.11817458\n",
      "  0.10142485 0.10307746 0.08793548 0.08967046]\n",
      " [0.1056387  0.09031768 0.12618302 0.08451276 0.09144166 0.11505408\n",
      "  0.09871291 0.1266204  0.07959548 0.08192331]\n",
      " [0.09873072 0.08720124 0.11509904 0.1014495  0.10563331 0.11236385\n",
      "  0.10088694 0.10559433 0.0861948  0.08684622]\n",
      " [0.09674465 0.08060104 0.12065359 0.09467604 0.10162571 0.12792525\n",
      "  0.08339298 0.1182773  0.07969061 0.09641278]\n",
      " [0.09547433 0.08987777 0.11345009 0.09911485 0.10847156 0.10083742\n",
      "  0.11175764 0.1100653  0.08587397 0.08507708]\n",
      " [0.09998269 0.10177454 0.10350779 0.09599867 0.09265493 0.10906152\n",
      "  0.11581226 0.1076311  0.08478606 0.08879045]\n",
      " [0.1169591  0.09504047 0.1028205  0.08593046 0.09365419 0.10859966\n",
      "  0.10941872 0.10325938 0.09297835 0.09133919]\n",
      " [0.11289662 0.08737186 0.12686177 0.10058434 0.09848739 0.11104294\n",
      "  0.08647525 0.09786285 0.08980101 0.088616  ]\n",
      " [0.11198892 0.08604252 0.10193547 0.09065288 0.09573968 0.11635017\n",
      "  0.11265753 0.09514506 0.09540588 0.09408186]\n",
      " [0.1003643  0.09789018 0.1141551  0.08785652 0.08920857 0.10904168\n",
      "  0.11190631 0.10454318 0.09024519 0.09478899]\n",
      " [0.10115264 0.07725273 0.11922241 0.10240829 0.10069153 0.12146478\n",
      "  0.09357437 0.10948226 0.08351795 0.0912331 ]\n",
      " [0.10357855 0.08927664 0.10839326 0.08956979 0.09344079 0.11610097\n",
      "  0.11338411 0.10790659 0.09027211 0.08807722]\n",
      " [0.10141143 0.09768029 0.10689864 0.09610774 0.10236885 0.10380676\n",
      "  0.10267805 0.10922095 0.09000085 0.08982641]\n",
      " [0.11831111 0.08396224 0.11167432 0.08991928 0.09168077 0.10913739\n",
      "  0.10442495 0.10482664 0.09249218 0.09357109]\n",
      " [0.09623966 0.08709352 0.10918223 0.09377551 0.09729643 0.11480822\n",
      "  0.11209226 0.10581972 0.09110188 0.0925906 ]\n",
      " [0.10514703 0.08212264 0.09669708 0.09215602 0.09886904 0.10323022\n",
      "  0.12423468 0.10885717 0.09467365 0.09401251]]\n",
      "2.3125062\n"
     ]
    }
   ],
   "source": [
    "print(workspace.FetchBlob(\"softmax\"))\n",
    "print(workspace.FetchBlob(\"loss\"))"
   ]
  }
 ],
 "metadata": {
  "kernelspec": {
   "display_name": "Python 3",
   "language": "python",
   "name": "python3"
  },
  "language_info": {
   "codemirror_mode": {
    "name": "ipython",
    "version": 3
   },
   "file_extension": ".py",
   "mimetype": "text/x-python",
   "name": "python",
   "nbconvert_exporter": "python",
   "pygments_lexer": "ipython3",
   "version": "3.6.6"
  }
 },
 "nbformat": 4,
 "nbformat_minor": 2
}
