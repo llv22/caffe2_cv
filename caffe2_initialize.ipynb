{
 "cells": [
  {
   "cell_type": "markdown",
   "metadata": {},
   "source": [
    "# Caffe2 Introduction\n",
    "\n",
    "References\n",
    "* https://caffe2.ai/docs/intro-tutorial.html"
   ]
  },
  {
   "cell_type": "code",
   "execution_count": 1,
   "metadata": {
    "scrolled": true
   },
   "outputs": [
    {
     "name": "stderr",
     "output_type": "stream",
     "text": [
      "WARNING:root:This caffe2 python run does not have GPU support. Will run in CPU only mode.\n"
     ]
    }
   ],
   "source": [
    "from caffe2.python import workspace, model_helper\n",
    "import numpy as np"
   ]
  },
  {
   "cell_type": "markdown",
   "metadata": {},
   "source": [
    "## Blobs and Workspace, Tensors"
   ]
  },
  {
   "cell_type": "code",
   "execution_count": 2,
   "metadata": {},
   "outputs": [
    {
     "name": "stdout",
     "output_type": "stream",
     "text": [
      "[[[0.04798808 0.29514541]\n",
      "  [0.47173325 0.84355219]\n",
      "  [0.44440153 0.79400813]]\n",
      "\n",
      " [[0.04483906 0.65928398]\n",
      "  [0.93235641 0.49973344]\n",
      "  [0.15734319 0.01242859]]\n",
      "\n",
      " [[0.98126104 0.73074051]\n",
      "  [0.29563129 0.26204827]\n",
      "  [0.42370625 0.59264756]]\n",
      "\n",
      " [[0.84563836 0.56533809]\n",
      "  [0.09544875 0.92463733]\n",
      "  [0.3844233  0.29827066]]]\n",
      "(4, 3, 2)\n",
      "[[[0.04798808 0.29514541]\n",
      "  [0.47173325 0.84355219]\n",
      "  [0.44440153 0.79400813]]\n",
      "\n",
      " [[0.04483906 0.65928398]\n",
      "  [0.93235641 0.49973344]\n",
      "  [0.15734319 0.01242859]]\n",
      "\n",
      " [[0.98126104 0.73074051]\n",
      "  [0.29563129 0.26204827]\n",
      "  [0.42370625 0.59264756]]\n",
      "\n",
      " [[0.84563836 0.56533809]\n",
      "  [0.09544875 0.92463733]\n",
      "  [0.3844233  0.29827066]]]\n"
     ]
    }
   ],
   "source": [
    "# Create random tensor of three dimensions\n",
    "x = np.random.rand(4, 3, 2)\n",
    "print(x)\n",
    "print(x.shape)\n",
    "\n",
    "workspace.FeedBlob(\"my_x\", x)\n",
    "\n",
    "x2 = workspace.FetchBlob(\"my_x\")\n",
    "print(x2)"
   ]
  },
  {
   "cell_type": "markdown",
   "metadata": {},
   "source": [
    "## Nets and Operators"
   ]
  },
  {
   "cell_type": "markdown",
   "metadata": {},
   "source": [
    "### 1. Model defintion"
   ]
  },
  {
   "cell_type": "code",
   "execution_count": 3,
   "metadata": {},
   "outputs": [
    {
     "data": {
      "text/plain": [
       "True"
      ]
     },
     "execution_count": 3,
     "metadata": {},
     "output_type": "execute_result"
    }
   ],
   "source": [
    "# Create the input data\n",
    "data = np.random.rand(16, 100).astype(np.float32)\n",
    "\n",
    "# Create labels for the data as integers [0, 9].\n",
    "label = (np.random.rand(16) * 10).astype(np.int32)\n",
    "\n",
    "workspace.FeedBlob(\"data\", data)\n",
    "workspace.FeedBlob(\"label\", label)"
   ]
  },
  {
   "cell_type": "code",
   "execution_count": 4,
   "metadata": {},
   "outputs": [],
   "source": [
    "# Create model using a model helper\n",
    "m = model_helper.ModelHelper(name=\"my first net\")"
   ]
  },
  {
   "cell_type": "code",
   "execution_count": 5,
   "metadata": {},
   "outputs": [],
   "source": [
    "weight = m.param_init_net.XavierFill([], 'fc_w', shape=[10, 100])\n",
    "bias = m.param_init_net.ConstantFill([], 'fc_b', shape=[10, ])"
   ]
  },
  {
   "cell_type": "code",
   "execution_count": 6,
   "metadata": {},
   "outputs": [
    {
     "name": "stdout",
     "output_type": "stream",
     "text": [
      "name: \"my first net\"\n",
      "op {\n",
      "  input: \"data\"\n",
      "  input: \"fc_w\"\n",
      "  input: \"fc_b\"\n",
      "  output: \"fc1\"\n",
      "  name: \"\"\n",
      "  type: \"FC\"\n",
      "}\n",
      "op {\n",
      "  input: \"fc1\"\n",
      "  output: \"pred\"\n",
      "  name: \"\"\n",
      "  type: \"Sigmoid\"\n",
      "}\n",
      "op {\n",
      "  input: \"pred\"\n",
      "  input: \"label\"\n",
      "  output: \"softmax\"\n",
      "  output: \"loss\"\n",
      "  name: \"\"\n",
      "  type: \"SoftmaxWithLoss\"\n",
      "}\n",
      "external_input: \"data\"\n",
      "external_input: \"fc_w\"\n",
      "external_input: \"fc_b\"\n",
      "external_input: \"label\"\n",
      "\n"
     ]
    }
   ],
   "source": [
    "fc_1 = m.net.FC([\"data\", \"fc_w\", \"fc_b\"], \"fc1\")\n",
    "pred = m.net.Sigmoid(fc_1, \"pred\")\n",
    "softmax, loss = m.net.SoftmaxWithLoss([pred, \"label\"], [\"softmax\", \"loss\"])\n",
    "print(m.net.Proto())"
   ]
  },
  {
   "cell_type": "markdown",
   "metadata": {},
   "source": [
    "### 2. Executing"
   ]
  },
  {
   "cell_type": "code",
   "execution_count": 7,
   "metadata": {},
   "outputs": [
    {
     "data": {
      "text/plain": [
       "True"
      ]
     },
     "execution_count": 7,
     "metadata": {},
     "output_type": "execute_result"
    }
   ],
   "source": [
    "workspace.RunNetOnce(m.param_init_net)\n",
    "workspace.CreateNet(m.net)"
   ]
  },
  {
   "cell_type": "code",
   "execution_count": 8,
   "metadata": {},
   "outputs": [],
   "source": [
    "# Run 100 x 10 iterations\n",
    "for _ in range(100):\n",
    "    data = np.random.rand(16, 100).astype(np.float32)\n",
    "    label = (np.random.rand(16) * 10).astype(np.int32)\n",
    "\n",
    "    workspace.FeedBlob(\"data\", data)\n",
    "    workspace.FeedBlob(\"label\", label)\n",
    "\n",
    "    workspace.RunNet(m.name, 10)   # run for 10 times"
   ]
  },
  {
   "cell_type": "code",
   "execution_count": 9,
   "metadata": {},
   "outputs": [
    {
     "name": "stdout",
     "output_type": "stream",
     "text": [
      "[[0.10693514 0.08654815 0.08640441 0.09488468 0.08006307 0.09691094\n",
      "  0.11522754 0.10521664 0.11057828 0.11723107]\n",
      " [0.10524033 0.09846363 0.10429107 0.09712043 0.08648786 0.09566383\n",
      "  0.09768786 0.09588178 0.11043419 0.10872909]\n",
      " [0.09116844 0.10422283 0.10762887 0.09341332 0.08236504 0.0940946\n",
      "  0.11595587 0.10004821 0.10869397 0.10240878]\n",
      " [0.09754768 0.09058246 0.09380923 0.09632561 0.0779295  0.09619488\n",
      "  0.11716543 0.11381692 0.10700475 0.1096236 ]\n",
      " [0.11644505 0.09216201 0.0880461  0.11386504 0.0907858  0.09495328\n",
      "  0.10418115 0.0921772  0.10442338 0.10296092]\n",
      " [0.11926381 0.09341063 0.10374295 0.09161015 0.08418303 0.09291831\n",
      "  0.10440864 0.09966722 0.09976219 0.11103307]\n",
      " [0.1003916  0.08444326 0.10631317 0.10027147 0.0809922  0.09353884\n",
      "  0.10905166 0.10242118 0.1138364  0.10874021]\n",
      " [0.09873134 0.09193544 0.10725842 0.0965521  0.08516364 0.0902591\n",
      "  0.10540079 0.1025169  0.11286637 0.10931596]\n",
      " [0.10006923 0.08418194 0.10115299 0.10232321 0.08188592 0.10007308\n",
      "  0.11218643 0.10213347 0.11624744 0.09974635]\n",
      " [0.09915304 0.08589703 0.10347903 0.10098204 0.0849276  0.09278637\n",
      "  0.10523415 0.10772506 0.11431146 0.10550417]\n",
      " [0.08965985 0.08125702 0.1027272  0.10291243 0.07940382 0.10852615\n",
      "  0.1112621  0.10526663 0.10819066 0.11079414]\n",
      " [0.10704503 0.08087717 0.09922627 0.09369457 0.08060694 0.09577727\n",
      "  0.11747894 0.10059972 0.10949578 0.11519831]\n",
      " [0.11115462 0.08489943 0.10813996 0.08662152 0.08014147 0.08444699\n",
      "  0.11126457 0.11091295 0.11007414 0.11234441]\n",
      " [0.10460159 0.08739121 0.10170618 0.09103621 0.09010711 0.10438246\n",
      "  0.10629335 0.09137018 0.10686865 0.11624311]\n",
      " [0.10238437 0.10837323 0.09908314 0.0894357  0.07714241 0.08949986\n",
      "  0.11154205 0.10522906 0.10390945 0.11340076]\n",
      " [0.10703269 0.09409741 0.09697855 0.0988569  0.0821996  0.09058658\n",
      "  0.11208209 0.09931348 0.11117873 0.10767399]]\n",
      "2.265223\n"
     ]
    }
   ],
   "source": [
    "print(workspace.FetchBlob(\"softmax\"))\n",
    "print(workspace.FetchBlob(\"loss\"))"
   ]
  },
  {
   "cell_type": "markdown",
   "metadata": {},
   "source": [
    "### 3. Backward pass"
   ]
  },
  {
   "cell_type": "code",
   "execution_count": 10,
   "metadata": {},
   "outputs": [
    {
     "data": {
      "text/plain": [
       "True"
      ]
     },
     "execution_count": 10,
     "metadata": {},
     "output_type": "execute_result"
    }
   ],
   "source": [
    "m.AddGradientOperators([loss])\n",
    "workspace.RunNetOnce(m.param_init_net)\n",
    "workspace.CreateNet(m.net, overwrite=True)"
   ]
  },
  {
   "cell_type": "code",
   "execution_count": 11,
   "metadata": {
    "scrolled": true
   },
   "outputs": [
    {
     "name": "stdout",
     "output_type": "stream",
     "text": [
      "name: \"my first net\"\n",
      "op {\n",
      "  input: \"data\"\n",
      "  input: \"fc_w\"\n",
      "  input: \"fc_b\"\n",
      "  output: \"fc1\"\n",
      "  name: \"\"\n",
      "  type: \"FC\"\n",
      "}\n",
      "op {\n",
      "  input: \"fc1\"\n",
      "  output: \"pred\"\n",
      "  name: \"\"\n",
      "  type: \"Sigmoid\"\n",
      "}\n",
      "op {\n",
      "  input: \"pred\"\n",
      "  input: \"label\"\n",
      "  output: \"softmax\"\n",
      "  output: \"loss\"\n",
      "  name: \"\"\n",
      "  type: \"SoftmaxWithLoss\"\n",
      "}\n",
      "op {\n",
      "  input: \"loss\"\n",
      "  output: \"loss_autogen_grad\"\n",
      "  name: \"\"\n",
      "  type: \"ConstantFill\"\n",
      "  arg {\n",
      "    name: \"value\"\n",
      "    f: 1.0\n",
      "  }\n",
      "}\n",
      "op {\n",
      "  input: \"pred\"\n",
      "  input: \"label\"\n",
      "  input: \"softmax\"\n",
      "  input: \"loss_autogen_grad\"\n",
      "  output: \"pred_grad\"\n",
      "  name: \"\"\n",
      "  type: \"SoftmaxWithLossGradient\"\n",
      "  is_gradient_op: true\n",
      "}\n",
      "op {\n",
      "  input: \"pred\"\n",
      "  input: \"pred_grad\"\n",
      "  output: \"fc1_grad\"\n",
      "  name: \"\"\n",
      "  type: \"SigmoidGradient\"\n",
      "  is_gradient_op: true\n",
      "}\n",
      "op {\n",
      "  input: \"data\"\n",
      "  input: \"fc_w\"\n",
      "  input: \"fc1_grad\"\n",
      "  output: \"fc_w_grad\"\n",
      "  output: \"fc_b_grad\"\n",
      "  output: \"data_grad\"\n",
      "  name: \"\"\n",
      "  type: \"FCGradient\"\n",
      "  is_gradient_op: true\n",
      "}\n",
      "external_input: \"data\"\n",
      "external_input: \"fc_w\"\n",
      "external_input: \"fc_b\"\n",
      "external_input: \"label\"\n",
      "\n"
     ]
    }
   ],
   "source": [
    "print(m.net.Proto())"
   ]
  },
  {
   "cell_type": "code",
   "execution_count": 12,
   "metadata": {},
   "outputs": [],
   "source": [
    "# Run 100 x 10 iterations\n",
    "for _ in range(100):\n",
    "    data = np.random.rand(16, 100).astype(np.float32)\n",
    "    label = (np.random.rand(16) * 10).astype(np.int32)\n",
    "\n",
    "    workspace.FeedBlob(\"data\", data)\n",
    "    workspace.FeedBlob(\"label\", label)\n",
    "\n",
    "    workspace.RunNet(m.name, 10)   # run for 10 times"
   ]
  },
  {
   "cell_type": "code",
   "execution_count": 13,
   "metadata": {},
   "outputs": [
    {
     "name": "stdout",
     "output_type": "stream",
     "text": [
      "[[0.09061375 0.08890209 0.07852141 0.09371094 0.07721997 0.12769563\n",
      "  0.11973359 0.11358465 0.09014037 0.11987755]\n",
      " [0.10043311 0.10695577 0.08506128 0.08558637 0.08794773 0.10406561\n",
      "  0.11723498 0.10433999 0.08258724 0.12578791]\n",
      " [0.09774163 0.09779619 0.08986595 0.08786304 0.09102538 0.10312196\n",
      "  0.11283018 0.09987509 0.08569832 0.13418224]\n",
      " [0.09003852 0.1105454  0.09401692 0.08878256 0.08762946 0.1017843\n",
      "  0.1188451  0.09826504 0.08533151 0.12476113]\n",
      " [0.08791647 0.09521629 0.09561692 0.10444915 0.08983332 0.10842929\n",
      "  0.11971044 0.09491967 0.08442746 0.11948101]\n",
      " [0.10020016 0.10253922 0.08672389 0.0940804  0.08732906 0.11940424\n",
      "  0.11585031 0.09984045 0.08283658 0.11119567]\n",
      " [0.09474728 0.09664725 0.09139288 0.0931303  0.09788895 0.10375027\n",
      "  0.12170776 0.09591308 0.08846743 0.11635488]\n",
      " [0.09476154 0.09302573 0.09776563 0.09404112 0.08540931 0.10567707\n",
      "  0.11527937 0.10360312 0.08961114 0.12082597]\n",
      " [0.0887873  0.09437061 0.09314491 0.09422383 0.08335888 0.11679742\n",
      "  0.12219154 0.10939467 0.07339796 0.12433285]\n",
      " [0.09606138 0.10058981 0.08357619 0.09891039 0.08058591 0.11229275\n",
      "  0.1117801  0.11514129 0.07980914 0.12125292]\n",
      " [0.08523002 0.10147952 0.08533826 0.08361909 0.08937047 0.10962022\n",
      "  0.12697731 0.11556457 0.07980694 0.1229936 ]\n",
      " [0.09577414 0.09513354 0.08335982 0.09500581 0.08493705 0.11164882\n",
      "  0.1233341  0.11052553 0.07753874 0.12274234]\n",
      " [0.09023662 0.09660778 0.08188892 0.0924245  0.08632602 0.12002011\n",
      "  0.12547988 0.09682412 0.07658016 0.1336119 ]\n",
      " [0.1000715  0.10812753 0.09241785 0.09253843 0.0811559  0.1042493\n",
      "  0.11629542 0.10463609 0.08077113 0.11973687]\n",
      " [0.09612653 0.08899575 0.08696438 0.09513113 0.0852112  0.12077758\n",
      "  0.11637811 0.09719729 0.08354456 0.12967344]\n",
      " [0.09842648 0.10485898 0.08528785 0.0863685  0.07596646 0.10821009\n",
      "  0.1235185  0.10475178 0.07955097 0.13306035]]\n",
      "2.308251\n"
     ]
    }
   ],
   "source": [
    "print(workspace.FetchBlob(\"softmax\"))\n",
    "print(workspace.FetchBlob(\"loss\"))"
   ]
  }
 ],
 "metadata": {
  "kernelspec": {
   "display_name": "Python 3",
   "language": "python",
   "name": "python3"
  },
  "language_info": {
   "codemirror_mode": {
    "name": "ipython",
    "version": 3
   },
   "file_extension": ".py",
   "mimetype": "text/x-python",
   "name": "python",
   "nbconvert_exporter": "python",
   "pygments_lexer": "ipython3",
   "version": "3.6.6"
  }
 },
 "nbformat": 4,
 "nbformat_minor": 2
}
