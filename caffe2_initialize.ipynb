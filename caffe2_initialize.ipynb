{
 "cells": [
  {
   "cell_type": "markdown",
   "metadata": {},
   "source": [
    "# Caffe2 Introduction\n",
    "\n",
    "References\n",
    "* https://caffe2.ai/docs/intro-tutorial.html"
   ]
  },
  {
   "cell_type": "code",
   "execution_count": 1,
   "metadata": {
    "scrolled": true
   },
   "outputs": [],
   "source": [
    "from caffe2.python import workspace, model_helper\n",
    "import numpy as np"
   ]
  },
  {
   "cell_type": "markdown",
   "metadata": {},
   "source": [
    "## Blobs and Workspace, Tensors"
   ]
  },
  {
   "cell_type": "code",
   "execution_count": 2,
   "metadata": {},
   "outputs": [
    {
     "name": "stdout",
     "output_type": "stream",
     "text": [
      "[[[0.23807916 0.35985102]\n",
      "  [0.91121706 0.47594085]\n",
      "  [0.58230481 0.38613892]]\n",
      "\n",
      " [[0.36846601 0.9202981 ]\n",
      "  [0.86807489 0.83688508]\n",
      "  [0.88654783 0.41495028]]\n",
      "\n",
      " [[0.77081172 0.57133557]\n",
      "  [0.2217813  0.84453718]\n",
      "  [0.22199334 0.3167732 ]]\n",
      "\n",
      " [[0.61116601 0.87823169]\n",
      "  [0.22383377 0.64640645]\n",
      "  [0.08575468 0.70428389]]]\n",
      "(4, 3, 2)\n",
      "[[[0.23807916 0.35985102]\n",
      "  [0.91121706 0.47594085]\n",
      "  [0.58230481 0.38613892]]\n",
      "\n",
      " [[0.36846601 0.9202981 ]\n",
      "  [0.86807489 0.83688508]\n",
      "  [0.88654783 0.41495028]]\n",
      "\n",
      " [[0.77081172 0.57133557]\n",
      "  [0.2217813  0.84453718]\n",
      "  [0.22199334 0.3167732 ]]\n",
      "\n",
      " [[0.61116601 0.87823169]\n",
      "  [0.22383377 0.64640645]\n",
      "  [0.08575468 0.70428389]]]\n"
     ]
    }
   ],
   "source": [
    "# Create random tensor of three dimensions\n",
    "x = np.random.rand(4, 3, 2)\n",
    "print(x)\n",
    "print(x.shape)\n",
    "\n",
    "workspace.FeedBlob(\"my_x\", x)\n",
    "\n",
    "x2 = workspace.FetchBlob(\"my_x\")\n",
    "print(x2)"
   ]
  },
  {
   "cell_type": "markdown",
   "metadata": {},
   "source": [
    "## Nets and Operators"
   ]
  },
  {
   "cell_type": "markdown",
   "metadata": {},
   "source": [
    "### 1. Model defintion"
   ]
  },
  {
   "cell_type": "code",
   "execution_count": 3,
   "metadata": {},
   "outputs": [
    {
     "data": {
      "text/plain": [
       "True"
      ]
     },
     "execution_count": 3,
     "metadata": {},
     "output_type": "execute_result"
    }
   ],
   "source": [
    "# Create the input data\n",
    "data = np.random.rand(16, 100).astype(np.float32)\n",
    "\n",
    "# Create labels for the data as integers [0, 9].\n",
    "label = (np.random.rand(16) * 10).astype(np.int32)\n",
    "\n",
    "workspace.FeedBlob(\"data\", data)\n",
    "workspace.FeedBlob(\"label\", label)"
   ]
  },
  {
   "cell_type": "code",
   "execution_count": 4,
   "metadata": {},
   "outputs": [],
   "source": [
    "# Create model using a model helper\n",
    "m = model_helper.ModelHelper(name=\"my first net\")"
   ]
  },
  {
   "cell_type": "code",
   "execution_count": 5,
   "metadata": {},
   "outputs": [],
   "source": [
    "weight = m.param_init_net.XavierFill([], 'fc_w', shape=[10, 100])\n",
    "bias = m.param_init_net.ConstantFill([], 'fc_b', shape=[10, ])"
   ]
  },
  {
   "cell_type": "code",
   "execution_count": 6,
   "metadata": {},
   "outputs": [
    {
     "name": "stdout",
     "output_type": "stream",
     "text": [
      "name: \"my first net\"\n",
      "op {\n",
      "  input: \"data\"\n",
      "  input: \"fc_w\"\n",
      "  input: \"fc_b\"\n",
      "  output: \"fc1\"\n",
      "  name: \"\"\n",
      "  type: \"FC\"\n",
      "}\n",
      "op {\n",
      "  input: \"fc1\"\n",
      "  output: \"pred\"\n",
      "  name: \"\"\n",
      "  type: \"Sigmoid\"\n",
      "}\n",
      "op {\n",
      "  input: \"pred\"\n",
      "  input: \"label\"\n",
      "  output: \"softmax\"\n",
      "  output: \"loss\"\n",
      "  name: \"\"\n",
      "  type: \"SoftmaxWithLoss\"\n",
      "}\n",
      "external_input: \"data\"\n",
      "external_input: \"fc_w\"\n",
      "external_input: \"fc_b\"\n",
      "external_input: \"label\"\n",
      "\n"
     ]
    }
   ],
   "source": [
    "fc_1 = m.net.FC([\"data\", \"fc_w\", \"fc_b\"], \"fc1\")\n",
    "pred = m.net.Sigmoid(fc_1, \"pred\")\n",
    "softmax, loss = m.net.SoftmaxWithLoss([pred, \"label\"], [\"softmax\", \"loss\"])\n",
    "print(m.net.Proto())"
   ]
  },
  {
   "cell_type": "markdown",
   "metadata": {},
   "source": [
    "### 2. Executing"
   ]
  },
  {
   "cell_type": "code",
   "execution_count": 7,
   "metadata": {},
   "outputs": [
    {
     "data": {
      "text/plain": [
       "True"
      ]
     },
     "execution_count": 7,
     "metadata": {},
     "output_type": "execute_result"
    }
   ],
   "source": [
    "workspace.RunNetOnce(m.param_init_net)\n",
    "workspace.CreateNet(m.net)"
   ]
  },
  {
   "cell_type": "code",
   "execution_count": 8,
   "metadata": {},
   "outputs": [],
   "source": [
    "# Run 100 x 10 iterations\n",
    "for _ in range(100):\n",
    "    data = np.random.rand(16, 100).astype(np.float32)\n",
    "    label = (np.random.rand(16) * 10).astype(np.int32)\n",
    "\n",
    "    workspace.FeedBlob(\"data\", data)\n",
    "    workspace.FeedBlob(\"label\", label)\n",
    "\n",
    "    workspace.RunNet(m.name, 10)   # run for 10 times"
   ]
  },
  {
   "cell_type": "code",
   "execution_count": 9,
   "metadata": {},
   "outputs": [
    {
     "name": "stdout",
     "output_type": "stream",
     "text": [
      "[[0.08679973 0.12714049 0.09987643 0.0974431  0.0891405  0.10393751\n",
      "  0.09626511 0.10909824 0.09267303 0.09762583]\n",
      " [0.08830051 0.1183781  0.09979241 0.09179076 0.09414592 0.10906307\n",
      "  0.09054583 0.10960647 0.09924439 0.09913248]\n",
      " [0.08792613 0.1102309  0.09459518 0.09859088 0.08616371 0.10677432\n",
      "  0.10494146 0.11025261 0.10360478 0.09692001]\n",
      " [0.0940778  0.0966908  0.08952153 0.10259698 0.09149273 0.10193258\n",
      "  0.09115592 0.11856576 0.09422557 0.11974041]\n",
      " [0.08379909 0.10912321 0.10611124 0.10054064 0.0985202  0.10488749\n",
      "  0.09661508 0.10464136 0.09981644 0.09594522]\n",
      " [0.09532934 0.13500457 0.09487301 0.08920389 0.09108158 0.10568178\n",
      "  0.10352152 0.10006067 0.08803672 0.09720695]\n",
      " [0.08306641 0.10981201 0.10356744 0.09534607 0.09189891 0.10536124\n",
      "  0.09457405 0.11271288 0.10280445 0.10085656]\n",
      " [0.08405121 0.11464258 0.09878629 0.0953908  0.09277253 0.10356691\n",
      "  0.09900262 0.11397517 0.10547944 0.09233259]\n",
      " [0.09188846 0.1074255  0.10188085 0.09660637 0.09033471 0.09856199\n",
      "  0.09383885 0.12332005 0.08919822 0.10694504]\n",
      " [0.09253852 0.11758066 0.09612028 0.07865442 0.09782003 0.10280317\n",
      "  0.09988467 0.12503347 0.09591398 0.09365092]\n",
      " [0.08795169 0.11077127 0.10131837 0.09307329 0.09666681 0.10705493\n",
      "  0.10891148 0.10757961 0.10174145 0.08493114]\n",
      " [0.09411215 0.10921014 0.09983779 0.0940165  0.08702803 0.10748078\n",
      "  0.08737209 0.11413752 0.09893985 0.10786505]\n",
      " [0.08887581 0.10973868 0.10719758 0.0986869  0.09455164 0.11759286\n",
      "  0.09072071 0.1101191  0.09797636 0.08454034]\n",
      " [0.10553257 0.10447107 0.08861076 0.09487975 0.08884877 0.11087722\n",
      "  0.09088016 0.12050293 0.09750178 0.09789487]\n",
      " [0.08755929 0.11934035 0.10068483 0.09120051 0.0881791  0.10836571\n",
      "  0.10207239 0.1067232  0.09795868 0.09791595]\n",
      " [0.09592884 0.11900479 0.10224483 0.09324457 0.07890026 0.10977031\n",
      "  0.09178363 0.11099167 0.10029694 0.09783411]]\n",
      "2.3165193\n"
     ]
    }
   ],
   "source": [
    "print(workspace.FetchBlob(\"softmax\"))\n",
    "print(workspace.FetchBlob(\"loss\"))"
   ]
  },
  {
   "cell_type": "markdown",
   "metadata": {},
   "source": [
    "### 3. Backward pass"
   ]
  },
  {
   "cell_type": "code",
   "execution_count": 10,
   "metadata": {},
   "outputs": [
    {
     "data": {
      "text/plain": [
       "True"
      ]
     },
     "execution_count": 10,
     "metadata": {},
     "output_type": "execute_result"
    }
   ],
   "source": [
    "m.AddGradientOperators([loss])\n",
    "workspace.RunNetOnce(m.param_init_net)\n",
    "workspace.CreateNet(m.net, overwrite=True)"
   ]
  },
  {
   "cell_type": "code",
   "execution_count": 11,
   "metadata": {
    "scrolled": true
   },
   "outputs": [
    {
     "name": "stdout",
     "output_type": "stream",
     "text": [
      "name: \"my first net\"\n",
      "op {\n",
      "  input: \"data\"\n",
      "  input: \"fc_w\"\n",
      "  input: \"fc_b\"\n",
      "  output: \"fc1\"\n",
      "  name: \"\"\n",
      "  type: \"FC\"\n",
      "}\n",
      "op {\n",
      "  input: \"fc1\"\n",
      "  output: \"pred\"\n",
      "  name: \"\"\n",
      "  type: \"Sigmoid\"\n",
      "}\n",
      "op {\n",
      "  input: \"pred\"\n",
      "  input: \"label\"\n",
      "  output: \"softmax\"\n",
      "  output: \"loss\"\n",
      "  name: \"\"\n",
      "  type: \"SoftmaxWithLoss\"\n",
      "}\n",
      "op {\n",
      "  input: \"loss\"\n",
      "  output: \"loss_autogen_grad\"\n",
      "  name: \"\"\n",
      "  type: \"ConstantFill\"\n",
      "  arg {\n",
      "    name: \"value\"\n",
      "    f: 1.0\n",
      "  }\n",
      "}\n",
      "op {\n",
      "  input: \"pred\"\n",
      "  input: \"label\"\n",
      "  input: \"softmax\"\n",
      "  input: \"loss_autogen_grad\"\n",
      "  output: \"pred_grad\"\n",
      "  name: \"\"\n",
      "  type: \"SoftmaxWithLossGradient\"\n",
      "  is_gradient_op: true\n",
      "}\n",
      "op {\n",
      "  input: \"pred\"\n",
      "  input: \"pred_grad\"\n",
      "  output: \"fc1_grad\"\n",
      "  name: \"\"\n",
      "  type: \"SigmoidGradient\"\n",
      "  is_gradient_op: true\n",
      "}\n",
      "op {\n",
      "  input: \"data\"\n",
      "  input: \"fc_w\"\n",
      "  input: \"fc1_grad\"\n",
      "  output: \"fc_w_grad\"\n",
      "  output: \"fc_b_grad\"\n",
      "  output: \"data_grad\"\n",
      "  name: \"\"\n",
      "  type: \"FCGradient\"\n",
      "  is_gradient_op: true\n",
      "}\n",
      "external_input: \"data\"\n",
      "external_input: \"fc_w\"\n",
      "external_input: \"fc_b\"\n",
      "external_input: \"label\"\n",
      "\n"
     ]
    }
   ],
   "source": [
    "print(m.net.Proto())"
   ]
  },
  {
   "cell_type": "code",
   "execution_count": 12,
   "metadata": {},
   "outputs": [],
   "source": [
    "# Run 100 x 10 iterations\n",
    "for _ in range(100):\n",
    "    data = np.random.rand(16, 100).astype(np.float32)\n",
    "    label = (np.random.rand(16) * 10).astype(np.int32)\n",
    "\n",
    "    workspace.FeedBlob(\"data\", data)\n",
    "    workspace.FeedBlob(\"label\", label)\n",
    "\n",
    "    workspace.RunNet(m.name, 10)   # run for 10 times"
   ]
  },
  {
   "cell_type": "code",
   "execution_count": 13,
   "metadata": {},
   "outputs": [
    {
     "name": "stdout",
     "output_type": "stream",
     "text": [
      "[[0.09632629 0.08305414 0.09914054 0.11698696 0.09126918 0.11371178\n",
      "  0.10383841 0.08373358 0.10532628 0.10661281]\n",
      " [0.09943102 0.09407094 0.0908573  0.09413522 0.0923399  0.10849854\n",
      "  0.11732399 0.08344328 0.10256005 0.11733968]\n",
      " [0.10604601 0.08872339 0.09771119 0.11058455 0.0966     0.11265538\n",
      "  0.1010702  0.09310079 0.09670738 0.09680113]\n",
      " [0.09845086 0.09524488 0.10663462 0.10194623 0.08531986 0.12209049\n",
      "  0.10183505 0.08579805 0.10082951 0.10185042]\n",
      " [0.09170969 0.08624147 0.10199437 0.105795   0.09557021 0.11909096\n",
      "  0.11504228 0.09188154 0.09665626 0.09601833]\n",
      " [0.09194015 0.09486487 0.10334487 0.1002294  0.09093742 0.11864112\n",
      "  0.11984234 0.07660149 0.10222556 0.10137256]\n",
      " [0.10240609 0.09426099 0.09805542 0.11012942 0.08993021 0.11281668\n",
      "  0.10019438 0.08638358 0.10510419 0.10071895]\n",
      " [0.10740739 0.0944377  0.09618554 0.10625327 0.08974446 0.12955724\n",
      "  0.10086174 0.08852451 0.0948196  0.09220871]\n",
      " [0.09787394 0.07968421 0.10419039 0.10200994 0.10070807 0.11440475\n",
      "  0.10484736 0.08232138 0.1095771  0.10438266]\n",
      " [0.086431   0.10565568 0.09317799 0.11650737 0.09958869 0.1140997\n",
      "  0.09824513 0.08587512 0.09074678 0.10967261]\n",
      " [0.10391212 0.08342949 0.09334894 0.119202   0.09278075 0.11275607\n",
      "  0.10384921 0.08453224 0.10247937 0.10370983]\n",
      " [0.10250786 0.08550136 0.10437769 0.0994501  0.09204258 0.11775412\n",
      "  0.1057842  0.0788643  0.09349792 0.12021978]\n",
      " [0.09844448 0.07935506 0.09971523 0.10464013 0.08896807 0.11558714\n",
      "  0.10939316 0.09078478 0.10062683 0.11248504]\n",
      " [0.09952942 0.08364286 0.09656684 0.10286923 0.10053316 0.11413531\n",
      "  0.09799482 0.09553651 0.1023849  0.1068067 ]\n",
      " [0.09120325 0.07831698 0.11485209 0.10837533 0.09959905 0.1030143\n",
      "  0.10557623 0.08907698 0.106903   0.10308304]\n",
      " [0.10604447 0.08513099 0.11356053 0.10466895 0.09594943 0.10552837\n",
      "  0.09675559 0.08681179 0.114241   0.09130894]]\n",
      "2.2759469\n"
     ]
    }
   ],
   "source": [
    "print(workspace.FetchBlob(\"softmax\"))\n",
    "print(workspace.FetchBlob(\"loss\"))"
   ]
  }
 ],
 "metadata": {
  "kernelspec": {
   "display_name": "Python 3",
   "language": "python",
   "name": "python3"
  },
  "language_info": {
   "codemirror_mode": {
    "name": "ipython",
    "version": 3
   },
   "file_extension": ".py",
   "mimetype": "text/x-python",
   "name": "python",
   "nbconvert_exporter": "python",
   "pygments_lexer": "ipython3",
   "version": "3.8.2"
  }
 },
 "nbformat": 4,
 "nbformat_minor": 4
}
