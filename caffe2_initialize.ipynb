{
 "cells": [
  {
   "cell_type": "markdown",
   "metadata": {},
   "source": [
    "# Caffe2 Introduction\n",
    "\n",
    "References\n",
    "* https://caffe2.ai/docs/intro-tutorial.html"
   ]
  },
  {
   "cell_type": "code",
   "execution_count": 1,
   "metadata": {
    "scrolled": true
   },
   "outputs": [],
   "source": [
    "from caffe2.python import workspace, model_helper\n",
    "import numpy as np"
   ]
  },
  {
   "cell_type": "markdown",
   "metadata": {},
   "source": [
    "## Blobs and Workspace, Tensors"
   ]
  },
  {
   "cell_type": "code",
   "execution_count": 2,
   "metadata": {},
   "outputs": [
    {
     "name": "stdout",
     "output_type": "stream",
     "text": [
      "[[[0.88997241 0.12022102]\n",
      "  [0.88188169 0.18473214]\n",
      "  [0.71762122 0.11558636]]\n",
      "\n",
      " [[0.22579086 0.67422141]\n",
      "  [0.48671107 0.94477542]\n",
      "  [0.54582604 0.93478675]]\n",
      "\n",
      " [[0.72404967 0.82139218]\n",
      "  [0.0241157  0.19129789]\n",
      "  [0.15488574 0.01253563]]\n",
      "\n",
      " [[0.36795231 0.81898088]\n",
      "  [0.92400248 0.66840576]\n",
      "  [0.31662866 0.38012366]]]\n",
      "(4, 3, 2)\n",
      "[[[0.88997241 0.12022102]\n",
      "  [0.88188169 0.18473214]\n",
      "  [0.71762122 0.11558636]]\n",
      "\n",
      " [[0.22579086 0.67422141]\n",
      "  [0.48671107 0.94477542]\n",
      "  [0.54582604 0.93478675]]\n",
      "\n",
      " [[0.72404967 0.82139218]\n",
      "  [0.0241157  0.19129789]\n",
      "  [0.15488574 0.01253563]]\n",
      "\n",
      " [[0.36795231 0.81898088]\n",
      "  [0.92400248 0.66840576]\n",
      "  [0.31662866 0.38012366]]]\n"
     ]
    }
   ],
   "source": [
    "# Create random tensor of three dimensions\n",
    "x = np.random.rand(4, 3, 2)\n",
    "print(x)\n",
    "print(x.shape)\n",
    "\n",
    "workspace.FeedBlob(\"my_x\", x)\n",
    "\n",
    "x2 = workspace.FetchBlob(\"my_x\")\n",
    "print(x2)"
   ]
  },
  {
   "cell_type": "markdown",
   "metadata": {},
   "source": [
    "## Nets and Operators"
   ]
  },
  {
   "cell_type": "markdown",
   "metadata": {},
   "source": [
    "### 1. Model defintion"
   ]
  },
  {
   "cell_type": "code",
   "execution_count": 3,
   "metadata": {},
   "outputs": [
    {
     "data": {
      "text/plain": [
       "True"
      ]
     },
     "execution_count": 3,
     "metadata": {},
     "output_type": "execute_result"
    }
   ],
   "source": [
    "# Create the input data\n",
    "data = np.random.rand(16, 100).astype(np.float32)\n",
    "\n",
    "# Create labels for the data as integers [0, 9].\n",
    "label = (np.random.rand(16) * 10).astype(np.int32)\n",
    "\n",
    "workspace.FeedBlob(\"data\", data)\n",
    "workspace.FeedBlob(\"label\", label)"
   ]
  },
  {
   "cell_type": "code",
   "execution_count": 4,
   "metadata": {},
   "outputs": [],
   "source": [
    "# Create model using a model helper\n",
    "m = model_helper.ModelHelper(name=\"my first net\")"
   ]
  },
  {
   "cell_type": "code",
   "execution_count": 5,
   "metadata": {},
   "outputs": [],
   "source": [
    "weight = m.param_init_net.XavierFill([], 'fc_w', shape=[10, 100])\n",
    "bias = m.param_init_net.ConstantFill([], 'fc_b', shape=[10, ])"
   ]
  },
  {
   "cell_type": "code",
   "execution_count": 6,
   "metadata": {},
   "outputs": [
    {
     "name": "stdout",
     "output_type": "stream",
     "text": [
      "name: \"my first net\"\n",
      "op {\n",
      "  input: \"data\"\n",
      "  input: \"fc_w\"\n",
      "  input: \"fc_b\"\n",
      "  output: \"fc1\"\n",
      "  name: \"\"\n",
      "  type: \"FC\"\n",
      "}\n",
      "op {\n",
      "  input: \"fc1\"\n",
      "  output: \"pred\"\n",
      "  name: \"\"\n",
      "  type: \"Sigmoid\"\n",
      "}\n",
      "op {\n",
      "  input: \"pred\"\n",
      "  input: \"label\"\n",
      "  output: \"softmax\"\n",
      "  output: \"loss\"\n",
      "  name: \"\"\n",
      "  type: \"SoftmaxWithLoss\"\n",
      "}\n",
      "external_input: \"data\"\n",
      "external_input: \"fc_w\"\n",
      "external_input: \"fc_b\"\n",
      "external_input: \"label\"\n",
      "\n"
     ]
    }
   ],
   "source": [
    "fc_1 = m.net.FC([\"data\", \"fc_w\", \"fc_b\"], \"fc1\")\n",
    "pred = m.net.Sigmoid(fc_1, \"pred\")\n",
    "softmax, loss = m.net.SoftmaxWithLoss([pred, \"label\"], [\"softmax\", \"loss\"])\n",
    "print(m.net.Proto())"
   ]
  },
  {
   "cell_type": "markdown",
   "metadata": {},
   "source": [
    "### 2. Executing"
   ]
  },
  {
   "cell_type": "code",
   "execution_count": 7,
   "metadata": {},
   "outputs": [
    {
     "data": {
      "text/plain": [
       "True"
      ]
     },
     "execution_count": 7,
     "metadata": {},
     "output_type": "execute_result"
    }
   ],
   "source": [
    "workspace.RunNetOnce(m.param_init_net)\n",
    "workspace.CreateNet(m.net)"
   ]
  },
  {
   "cell_type": "code",
   "execution_count": 8,
   "metadata": {},
   "outputs": [],
   "source": [
    "# Run 100 x 10 iterations\n",
    "for _ in range(100):\n",
    "    data = np.random.rand(16, 100).astype(np.float32)\n",
    "    label = (np.random.rand(16) * 10).astype(np.int32)\n",
    "\n",
    "    workspace.FeedBlob(\"data\", data)\n",
    "    workspace.FeedBlob(\"label\", label)\n",
    "\n",
    "    workspace.RunNet(m.name, 10)   # run for 10 times"
   ]
  },
  {
   "cell_type": "code",
   "execution_count": 9,
   "metadata": {},
   "outputs": [
    {
     "name": "stdout",
     "output_type": "stream",
     "text": [
      "[[0.09339145 0.10642346 0.10014153 0.10325584 0.09183178 0.09534732\n",
      "  0.08891211 0.10233209 0.12209567 0.09626896]\n",
      " [0.09899452 0.11280565 0.10002844 0.09607407 0.09911832 0.10619459\n",
      "  0.07705664 0.11145403 0.10433369 0.09394009]\n",
      " [0.08286455 0.10791922 0.10609834 0.09013259 0.09178647 0.09616897\n",
      "  0.08506706 0.11604338 0.12522957 0.09868987]\n",
      " [0.09134731 0.11518338 0.09047218 0.08984502 0.09977093 0.10848781\n",
      "  0.07927989 0.10156581 0.12222464 0.10182317]\n",
      " [0.09768469 0.09847265 0.09167515 0.09170575 0.096403   0.09395219\n",
      "  0.09331473 0.10700324 0.1209162  0.10887244]\n",
      " [0.08799846 0.12094094 0.09772131 0.09030902 0.09551021 0.10199878\n",
      "  0.08268747 0.1148183  0.11389599 0.09411947]\n",
      " [0.11328786 0.11041225 0.09950201 0.09428996 0.09200225 0.09499804\n",
      "  0.08375614 0.10167009 0.11757088 0.09251044]\n",
      " [0.08725245 0.11221404 0.10196627 0.09240996 0.09664204 0.1015223\n",
      "  0.08091603 0.1116172  0.10908668 0.10637297]\n",
      " [0.0866763  0.10937949 0.09433612 0.10313403 0.09211618 0.09972405\n",
      "  0.09426679 0.11585984 0.11554804 0.08895916]\n",
      " [0.09681463 0.10001516 0.09986553 0.0932567  0.09213073 0.10670245\n",
      "  0.08585839 0.10303358 0.12837052 0.09395228]\n",
      " [0.10431464 0.1151255  0.10348144 0.09908683 0.09095726 0.09803206\n",
      "  0.07790362 0.09662888 0.1088801  0.10558958]\n",
      " [0.10328569 0.1099343  0.08903392 0.10324942 0.09314542 0.09214558\n",
      "  0.09500015 0.10476547 0.11269218 0.09674791]\n",
      " [0.10121156 0.09672479 0.10021012 0.08958615 0.09762245 0.11022357\n",
      "  0.08450419 0.10700191 0.10968003 0.10323509]\n",
      " [0.09693552 0.11217226 0.09108547 0.09153257 0.09372533 0.09961286\n",
      "  0.08712576 0.10366333 0.12288415 0.10126287]\n",
      " [0.08191606 0.1115969  0.11029428 0.09250261 0.09585159 0.10668804\n",
      "  0.07584092 0.11041553 0.11572818 0.09916577]\n",
      " [0.08774085 0.11619036 0.09769543 0.10462706 0.09060304 0.09722544\n",
      "  0.08245538 0.09907018 0.11782952 0.10656259]]\n",
      "2.292003\n"
     ]
    }
   ],
   "source": [
    "print(workspace.FetchBlob(\"softmax\"))\n",
    "print(workspace.FetchBlob(\"loss\"))"
   ]
  },
  {
   "cell_type": "markdown",
   "metadata": {},
   "source": [
    "### 3. Backward pass"
   ]
  },
  {
   "cell_type": "code",
   "execution_count": 10,
   "metadata": {},
   "outputs": [
    {
     "data": {
      "text/plain": [
       "True"
      ]
     },
     "execution_count": 10,
     "metadata": {},
     "output_type": "execute_result"
    }
   ],
   "source": [
    "m.AddGradientOperators([loss])\n",
    "workspace.RunNetOnce(m.param_init_net)\n",
    "workspace.CreateNet(m.net, overwrite=True)"
   ]
  },
  {
   "cell_type": "code",
   "execution_count": 11,
   "metadata": {
    "scrolled": true
   },
   "outputs": [
    {
     "name": "stdout",
     "output_type": "stream",
     "text": [
      "name: \"my first net\"\n",
      "op {\n",
      "  input: \"data\"\n",
      "  input: \"fc_w\"\n",
      "  input: \"fc_b\"\n",
      "  output: \"fc1\"\n",
      "  name: \"\"\n",
      "  type: \"FC\"\n",
      "}\n",
      "op {\n",
      "  input: \"fc1\"\n",
      "  output: \"pred\"\n",
      "  name: \"\"\n",
      "  type: \"Sigmoid\"\n",
      "}\n",
      "op {\n",
      "  input: \"pred\"\n",
      "  input: \"label\"\n",
      "  output: \"softmax\"\n",
      "  output: \"loss\"\n",
      "  name: \"\"\n",
      "  type: \"SoftmaxWithLoss\"\n",
      "}\n",
      "op {\n",
      "  input: \"loss\"\n",
      "  output: \"loss_autogen_grad\"\n",
      "  name: \"\"\n",
      "  type: \"ConstantFill\"\n",
      "  arg {\n",
      "    name: \"value\"\n",
      "    f: 1.0\n",
      "  }\n",
      "}\n",
      "op {\n",
      "  input: \"pred\"\n",
      "  input: \"label\"\n",
      "  input: \"softmax\"\n",
      "  input: \"loss_autogen_grad\"\n",
      "  output: \"pred_grad\"\n",
      "  name: \"\"\n",
      "  type: \"SoftmaxWithLossGradient\"\n",
      "  is_gradient_op: true\n",
      "}\n",
      "op {\n",
      "  input: \"pred\"\n",
      "  input: \"pred_grad\"\n",
      "  output: \"fc1_grad\"\n",
      "  name: \"\"\n",
      "  type: \"SigmoidGradient\"\n",
      "  is_gradient_op: true\n",
      "}\n",
      "op {\n",
      "  input: \"data\"\n",
      "  input: \"fc_w\"\n",
      "  input: \"fc1_grad\"\n",
      "  output: \"fc_w_grad\"\n",
      "  output: \"fc_b_grad\"\n",
      "  output: \"data_grad\"\n",
      "  name: \"\"\n",
      "  type: \"FCGradient\"\n",
      "  is_gradient_op: true\n",
      "}\n",
      "external_input: \"data\"\n",
      "external_input: \"fc_w\"\n",
      "external_input: \"fc_b\"\n",
      "external_input: \"label\"\n",
      "\n"
     ]
    }
   ],
   "source": [
    "print(m.net.Proto())"
   ]
  },
  {
   "cell_type": "code",
   "execution_count": 12,
   "metadata": {},
   "outputs": [],
   "source": [
    "# Run 100 x 10 iterations\n",
    "for _ in range(100):\n",
    "    data = np.random.rand(16, 100).astype(np.float32)\n",
    "    label = (np.random.rand(16) * 10).astype(np.int32)\n",
    "\n",
    "    workspace.FeedBlob(\"data\", data)\n",
    "    workspace.FeedBlob(\"label\", label)\n",
    "\n",
    "    workspace.RunNet(m.name, 10)   # run for 10 times"
   ]
  },
  {
   "cell_type": "code",
   "execution_count": 13,
   "metadata": {},
   "outputs": [
    {
     "name": "stdout",
     "output_type": "stream",
     "text": [
      "[[0.07764349 0.11906692 0.08852771 0.10767992 0.09314898 0.08110189\n",
      "  0.1064648  0.09220832 0.09623636 0.13792174]\n",
      " [0.09315608 0.1179883  0.09621266 0.11301854 0.08626252 0.07878942\n",
      "  0.10712076 0.09544351 0.09666031 0.11534771]\n",
      " [0.09202261 0.11013588 0.0967541  0.11250325 0.10506929 0.08122766\n",
      "  0.10346481 0.09218597 0.08264202 0.12399448]\n",
      " [0.08944649 0.11206648 0.10214503 0.09155405 0.09619832 0.08243875\n",
      "  0.10476203 0.09395029 0.09811552 0.129323  ]\n",
      " [0.08586247 0.11873516 0.09534384 0.10848465 0.09346242 0.08816012\n",
      "  0.10321909 0.09627131 0.08954283 0.12091807]\n",
      " [0.07998072 0.11492892 0.09025536 0.10086226 0.0940085  0.08645912\n",
      "  0.11578054 0.08664259 0.09488203 0.1362001 ]\n",
      " [0.08601896 0.12322535 0.10309216 0.10297704 0.08651943 0.08301044\n",
      "  0.08535339 0.0948774  0.09138822 0.14353763]\n",
      " [0.08541438 0.11164442 0.10693711 0.10046652 0.08668761 0.09766892\n",
      "  0.09125784 0.10340477 0.0853864  0.13113196]\n",
      " [0.08984394 0.11833447 0.09547494 0.09715635 0.09566005 0.08537985\n",
      "  0.09069771 0.09648992 0.09715558 0.13380738]\n",
      " [0.08903304 0.12455085 0.09045957 0.10409139 0.08645114 0.085023\n",
      "  0.09624769 0.08588018 0.10242204 0.13584113]\n",
      " [0.09060349 0.11964466 0.09496283 0.10266292 0.10300025 0.09036767\n",
      "  0.10111754 0.09321727 0.09000772 0.11441553]\n",
      " [0.10135321 0.12626009 0.09712467 0.09984553 0.08265459 0.07946642\n",
      "  0.09442706 0.10157681 0.10003713 0.11725444]\n",
      " [0.08811106 0.1307206  0.10086539 0.09968071 0.09406433 0.08389304\n",
      "  0.09897583 0.0911096  0.08911277 0.12346673]\n",
      " [0.08397318 0.11631957 0.0879937  0.10743459 0.09764356 0.08494614\n",
      "  0.1092471  0.07589111 0.09786444 0.13868651]\n",
      " [0.09601338 0.13371843 0.10221256 0.09570286 0.09054451 0.07850944\n",
      "  0.09719571 0.09023482 0.09109879 0.12476942]\n",
      " [0.09882221 0.11274704 0.0988393  0.08951053 0.10886348 0.08350162\n",
      "  0.0921585  0.09019405 0.09174726 0.13361602]]\n",
      "2.3365507\n"
     ]
    }
   ],
   "source": [
    "print(workspace.FetchBlob(\"softmax\"))\n",
    "print(workspace.FetchBlob(\"loss\"))"
   ]
  }
 ],
 "metadata": {
  "kernelspec": {
   "display_name": "Python 3",
   "language": "python",
   "name": "python3"
  },
  "language_info": {
   "codemirror_mode": {
    "name": "ipython",
    "version": 3
   },
   "file_extension": ".py",
   "mimetype": "text/x-python",
   "name": "python",
   "nbconvert_exporter": "python",
   "pygments_lexer": "ipython3",
   "version": "3.8.8"
  }
 },
 "nbformat": 4,
 "nbformat_minor": 4
}
