{
 "cells": [
  {
   "cell_type": "code",
   "execution_count": 1,
   "metadata": {},
   "outputs": [
    {
     "name": "stderr",
     "output_type": "stream",
     "text": [
      "WARNING:root:This caffe2 python run does not have GPU support. Will run in CPU only mode.\n"
     ]
    }
   ],
   "source": [
    "import pkg_resources\n",
    "import cv2\n",
    "from caffe2.python import core"
   ]
  },
  {
   "cell_type": "markdown",
   "metadata": {},
   "source": [
    "# Caffe2 proxy setting\n",
    "1. global proxy, refer to https://pip.pypa.io/en/stable/user_guide/\n",
    "```bash\n",
    "[global]\n",
    "timeout = 120\n",
    "```"
   ]
  },
  {
   "cell_type": "code",
   "execution_count": 2,
   "metadata": {},
   "outputs": [
    {
     "name": "stdout",
     "output_type": "stream",
     "text": [
      "numpy version: 1.14.5\n",
      "pandas version: 0.23.4\n",
      "imageio version: 2.3.0\n",
      "scipy version: 1.1.0\n",
      "matplotlib version: 2.2.2\n",
      "tensorflow version: 1.9.0\n",
      "torch version: 0.5.0a0+f0d8a36\n",
      "mxnet version: 1.2.1\n",
      "theano version: 1.0.2+2.gc449c8699\n",
      "cv2 version: 3.4.1\n"
     ]
    }
   ],
   "source": [
    "packages = ['numpy', \n",
    "            'pandas',\n",
    "            'imageio',\n",
    "            'scipy', \n",
    "            'matplotlib',\n",
    "            'tensorflow', \n",
    "            'torch', \n",
    "            'mxnet', \n",
    "# caffe2, not ready, as issue: ubuntu 14.04 libopencv_imgcodecs.so.3.4: undefined reference to `vtable for std::__cxx11::basic_stringbuf<char, std::char_traits<char>, std::allocator<char> >@GLIBCXX_3.4.21'\n",
    "#             'caffe2', \n",
    "            'theano']\n",
    "for package in packages:\n",
    "    print(\"%s version: %s\" % (package, pkg_resources.get_distribution(package).version))\n",
    "\n",
    "print(\"cv2 version: %s\" % (cv2.__version__) )\n",
    "# print(\"caffe2 version: %s\" % (caffe2.__version__) )"
   ]
  },
  {
   "cell_type": "code",
   "execution_count": null,
   "metadata": {},
   "outputs": [],
   "source": []
  }
 ],
 "metadata": {
  "kernelspec": {
   "display_name": "Python 3",
   "language": "python",
   "name": "python3"
  },
  "language_info": {
   "codemirror_mode": {
    "name": "ipython",
    "version": 3
   },
   "file_extension": ".py",
   "mimetype": "text/x-python",
   "name": "python",
   "nbconvert_exporter": "python",
   "pygments_lexer": "ipython3",
   "version": "3.6.6"
  }
 },
 "nbformat": 4,
 "nbformat_minor": 2
}
