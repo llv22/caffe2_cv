{
 "cells": [
  {
   "cell_type": "markdown",
   "metadata": {},
   "source": [
    "# Programming Environment\n",
    "\n",
    "**Key Points**:\n",
    "\n",
    "* Must use matplotlib==2.2.3. Don't use 3.0.0 has conflict with pandas and also tensorflow_probability"
   ]
  },
  {
   "cell_type": "code",
   "execution_count": 1,
   "metadata": {},
   "outputs": [],
   "source": [
    "import pkg_resources\n",
    "import cv2\n",
    "import mxnet\n",
    "from caffe2.python import core\n",
    "from pkg_resources import DistributionNotFound\n",
    "## issue of installation of caffe2 from source\n",
    "# 1. can't find \"/usr/lib/x86_64-linux-gnu/libpng16.so.16: undefined reference to `inflateValidate@ZLIB_1.2.9'\"\n",
    "#    sudo apt-get upgrade libpng16-16\n",
    "# 2. No module named 'past': from past.builtins import basestring, refer to https://github.com/caffe2/caffe2/issues/712\n",
    "#    pip install future"
   ]
  },
  {
   "cell_type": "markdown",
   "metadata": {},
   "source": [
    "# Caffe2 proxy setting\n",
    "1. global proxy, refer to https://pip.pypa.io/en/stable/user_guide/\n",
    "```bash\n",
    "[global]\n",
    "timeout = 120\n",
    "```"
   ]
  },
  {
   "cell_type": "code",
   "execution_count": 2,
   "metadata": {},
   "outputs": [
    {
     "name": "stdout",
     "output_type": "stream",
     "text": [
      "numpy version: 1.19.5\n",
      "pandas version: 1.2.4\n",
      "imageio version: 2.9.0\n",
      "scipy version: 1.7.0\n",
      "matplotlib version: 3.4.2\n",
      "tensorflow version: 2.4.2\n",
      "torch version: 1.7.0a0\n",
      "mxnet version: 1.6.0\n",
      "caffe2 version: 0.8.2 (pytorch torch 1.7.0a0)\n",
      "theano version: 1.0.4\n",
      "cv2 version: 3.4.0\n"
     ]
    }
   ],
   "source": [
    "packages = ['numpy', \n",
    "            'pandas',\n",
    "            'imageio',\n",
    "            'scipy', \n",
    "            'matplotlib',\n",
    "            'tensorflow', \n",
    "            'torch', \n",
    "#             instead of mxnet original name\n",
    "            'mxnet', \n",
    "# caffe2, not ready, as issue: ubuntu 14.04 libopencv_imgcodecs.so.3.4: undefined reference to `vtable for std::__cxx11::basic_stringbuf<char, std::char_traits<char>, std::allocator<char> >@GLIBCXX_3.4.21'\n",
    "            'caffe2', \n",
    "            'theano']\n",
    "for package in packages:\n",
    "    library = None\n",
    "    try: \n",
    "        library = pkg_resources.get_distribution(package)\n",
    "    except DistributionNotFound as ex:\n",
    "        if package == 'mxnet':\n",
    "            library = pkg_resources.get_distribution('mxnet-cu91')\n",
    "    if library != None:\n",
    "        print(\"%s version: %s\" % (package, library.version))\n",
    "    else:\n",
    "        if package == 'caffe2':\n",
    "            # for caffe2, keeping the same as pytorch version\n",
    "            print(\"%s version: %s (pytorch %s)\" % (package, \"0.8.2\", pkg_resources.get_distribution(\"torch\")))\n",
    "        else:\n",
    "            raise ValueError(\"%s: invalid version\" % (package))\n",
    "\n",
    "print(\"cv2 version: %s\" % (cv2.__version__))"
   ]
  },
  {
   "cell_type": "code",
   "execution_count": null,
   "metadata": {},
   "outputs": [],
   "source": []
  }
 ],
 "metadata": {
  "kernelspec": {
   "display_name": "Python 3",
   "language": "python",
   "name": "python3"
  },
  "language_info": {
   "codemirror_mode": {
    "name": "ipython",
    "version": 3
   },
   "file_extension": ".py",
   "mimetype": "text/x-python",
   "name": "python",
   "nbconvert_exporter": "python",
   "pygments_lexer": "ipython3",
   "version": "3.8.8"
  }
 },
 "nbformat": 4,
 "nbformat_minor": 4
}
