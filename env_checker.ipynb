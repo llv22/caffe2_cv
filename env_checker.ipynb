{
 "cells": [
  {
   "cell_type": "code",
   "execution_count": 1,
   "metadata": {},
   "outputs": [
    {
     "name": "stderr",
     "output_type": "stream",
     "text": [
      "/home/dluser1/miniconda3/lib/python3.6/site-packages/h5py/__init__.py:36: FutureWarning: Conversion of the second argument of issubdtype from `float` to `np.floating` is deprecated. In future, it will be treated as `np.float64 == np.dtype(float).type`.\n",
      "  from ._conv import register_converters as _register_converters\n"
     ]
    }
   ],
   "source": [
    "import pkg_resources\n",
    "import cv2\n",
    "import mxnet\n",
    "from caffe2.python import core\n",
    "from pkg_resources import DistributionNotFound\n",
    "## issue of installation of caffe2 from source\n",
    "# 1. can't find \"/usr/lib/x86_64-linux-gnu/libpng16.so.16: undefined reference to `inflateValidate@ZLIB_1.2.9'\"\n",
    "#    sudo apt-get upgrade libpng16-16\n",
    "# 2. No module named 'past': from past.builtins import basestring, refer to https://github.com/caffe2/caffe2/issues/712\n",
    "#    pip install future"
   ]
  },
  {
   "cell_type": "markdown",
   "metadata": {},
   "source": [
    "# Caffe2 proxy setting\n",
    "1. global proxy, refer to https://pip.pypa.io/en/stable/user_guide/\n",
    "```bash\n",
    "[global]\n",
    "timeout = 120\n",
    "```"
   ]
  },
  {
   "cell_type": "code",
   "execution_count": 2,
   "metadata": {},
   "outputs": [
    {
     "name": "stdout",
     "output_type": "stream",
     "text": [
      "numpy version: 1.14.5\n",
      "pandas version: 0.23.0\n",
      "imageio version: 2.3.0\n",
      "scipy version: 1.1.0\n",
      "matplotlib version: 2.2.2\n",
      "tensorflow version: 1.8.0\n",
      "torch version: 0.5.0a0+c8b246a\n",
      "mxnet version: 1.2.1.post1\n",
      "theano version: 1.0.1+82.gce90645\n",
      "cv2 version: 3.3.1\n"
     ]
    }
   ],
   "source": [
    "packages = ['numpy', \n",
    "            'pandas',\n",
    "            'imageio',\n",
    "            'scipy', \n",
    "            'matplotlib',\n",
    "            'tensorflow', \n",
    "            'torch', \n",
    "#             instead of mxnet original name\n",
    "            'mxnet', \n",
    "# caffe2, not ready, as issue: ubuntu 14.04 libopencv_imgcodecs.so.3.4: undefined reference to `vtable for std::__cxx11::basic_stringbuf<char, std::char_traits<char>, std::allocator<char> >@GLIBCXX_3.4.21'\n",
    "#             'caffe2', \n",
    "            'theano']\n",
    "for package in packages:\n",
    "    try: \n",
    "        library = pkg_resources.get_distribution(package)\n",
    "    except DistributionNotFound as ex:\n",
    "        if package == 'mxnet':\n",
    "            library = pkg_resources.get_distribution('mxnet-cu91')\n",
    "        else:\n",
    "            raise ex\n",
    "    print(\"%s version: %s\" % (package, library.version))\n",
    "\n",
    "print(\"cv2 version: %s\" % (cv2.__version__) )\n",
    "# print(\"caffe2 version: %s\" % (caffe2.__version__) )"
   ]
  },
  {
   "cell_type": "code",
   "execution_count": null,
   "metadata": {},
   "outputs": [],
   "source": []
  }
 ],
 "metadata": {
  "kernelspec": {
   "display_name": "Python 3",
   "language": "python",
   "name": "python3"
  },
  "language_info": {
   "codemirror_mode": {
    "name": "ipython",
    "version": 3
   },
   "file_extension": ".py",
   "mimetype": "text/x-python",
   "name": "python",
   "nbconvert_exporter": "python",
   "pygments_lexer": "ipython3",
   "version": "3.6.6"
  }
 },
 "nbformat": 4,
 "nbformat_minor": 2
}
